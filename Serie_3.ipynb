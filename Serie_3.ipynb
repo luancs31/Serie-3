{
  "nbformat": 4,
  "nbformat_minor": 0,
  "metadata": {
    "colab": {
      "provenance": [],
      "authorship_tag": "ABX9TyPLAkf0099qhp/Zd90EpRYs",
      "include_colab_link": true
    },
    "kernelspec": {
      "name": "python3",
      "display_name": "Python 3"
    },
    "language_info": {
      "name": "python"
    }
  },
  "cells": [
    {
      "cell_type": "markdown",
      "metadata": {
        "id": "view-in-github",
        "colab_type": "text"
      },
      "source": [
        "<a href=\"https://colab.research.google.com/github/luancs31/Serie-3/blob/main/Serie_3.ipynb\" target=\"_parent\"><img src=\"https://colab.research.google.com/assets/colab-badge.svg\" alt=\"Open In Colab\"/></a>"
      ]
    },
    {
      "cell_type": "markdown",
      "source": [
        "Ejercicio 1"
      ],
      "metadata": {
        "id": "wz-lLMUZ_Exy"
      }
    },
    {
      "cell_type": "code",
      "execution_count": 6,
      "metadata": {
        "colab": {
          "base_uri": "https://localhost:8080/"
        },
        "id": "S5ufvh6E_D4O",
        "outputId": "18d8ec00-1ba7-470b-d36c-ade066aa0975"
      },
      "outputs": [
        {
          "output_type": "stream",
          "name": "stdout",
          "text": [
            "Operación 1: Enqueue(0), Estado de la cola: [0]\n",
            "Operación 2: Enqueue(1), Estado de la cola: [0, 1]\n",
            "Operación 3: Enqueue(2), Estado de la cola: [0, 1, 2]\n",
            "Operación 4: Enqueue(3), Estado de la cola: [0, 1, 2, 3]\n",
            "Operación 5: Enqueue(4), Estado de la cola: [0, 1, 2, 3, 4]\n",
            "Operación 1: Dequeue(), Elemento Eliminado: 0, Estado de la cola: [1, 2, 3, 4]\n",
            "Operación 2: Dequeue(), Elemento Eliminado: 1, Estado de la cola: [2, 3, 4]\n",
            "Operación 3: Dequeue(), Elemento Eliminado: 2, Estado de la cola: [3, 4]\n",
            "Operación 4: Dequeue(), Elemento Eliminado: 3, Estado de la cola: [4]\n",
            "Operación 5: Dequeue(), Elemento Eliminado: 4, Estado de la cola: []\n"
          ]
        }
      ],
      "source": [
        "class Cola:\n",
        "    def __init__(self):\n",
        "        self.items = []\n",
        "\n",
        "    def enqueue(self, elemento):\n",
        "        self.items.append(elemento)\n",
        "\n",
        "    def dequeue(self):\n",
        "        if not self.esta_vacia():\n",
        "            return self.items.pop(0)\n",
        "        else:\n",
        "            raise IndexError(\"La cola está vacía\")\n",
        "\n",
        "    def esta_vacia(self):\n",
        "        return len(self.items) == 0\n",
        "\n",
        "\n",
        "# Ejemplo de uso\n",
        "def ejemplo_uso():\n",
        "    n = 5  # Número total de operaciones\n",
        "    mi_cola = Cola()\n",
        "\n",
        "    # Realizar n operaciones enqueue\n",
        "    for i in range(n):\n",
        "        mi_cola.enqueue(i)\n",
        "        print(f\"Operación {i + 1}: Enqueue({i}), Estado de la cola: {mi_cola.items}\")\n",
        "\n",
        "    # Realizar n operaciones dequeue\n",
        "    for j in range(n):\n",
        "        elemento_eliminado = mi_cola.dequeue()\n",
        "        print(f\"Operación {j + 1}: Dequeue(), Elemento Eliminado: {elemento_eliminado}, Estado de la cola: {mi_cola.items}\")\n",
        "\n",
        "\n",
        "# Ejecutar el ejemplo\n",
        "ejemplo_uso()\n"
      ]
    },
    {
      "cell_type": "markdown",
      "source": [
        "Ejercicio 2"
      ],
      "metadata": {
        "id": "4fPr675X_Yo4"
      }
    },
    {
      "cell_type": "code",
      "source": [
        "class ColaMetodoContable:\n",
        "    def __init__(self):\n",
        "        self.items = []\n",
        "        self.creditos = 0  # Variable para llevar el registro de los créditos\n",
        "\n",
        "    def enqueue(self, elemento):\n",
        "        # La operación enqueue tiene un costo de 1 pero asignamos 2 créditos\n",
        "        self.items.append(elemento)\n",
        "        self.creditos += 2\n",
        "\n",
        "    def dequeue(self):\n",
        "        if not self.esta_vacia():\n",
        "            # La operación dequeue tiene un costo real de 2\n",
        "            elemento_eliminado = self.items.pop(0)\n",
        "            self.creditos -= 1  # Gastamos 1 crédito para pagar parte del costo real\n",
        "            return elemento_eliminado\n",
        "        else:\n",
        "            raise IndexError(\"La cola está vacía\")\n",
        "\n",
        "    def esta_vacia(self):\n",
        "        return len(self.items) == 0\n",
        "\n",
        "    def obtener_creditos(self):\n",
        "        return self.creditos\n",
        "\n",
        "\n",
        "# Ejemplo de uso\n",
        "mi_cola_metodo_contable = ColaMetodoContable()\n",
        "\n",
        "# Operaciones enqueue\n",
        "mi_cola_metodo_contable.enqueue(1)\n",
        "mi_cola_metodo_contable.enqueue(2)\n",
        "mi_cola_metodo_contable.enqueue(3)\n",
        "\n",
        "# Operaciones dequeue\n",
        "elemento_eliminado = mi_cola_metodo_contable.dequeue()\n",
        "print(\"Elemento Eliminado:\", elemento_eliminado)\n",
        "\n",
        "# Obtener el saldo de créditos\n",
        "creditos_restantes = mi_cola_metodo_contable.obtener_creditos()\n",
        "print(\"Créditos Restantes:\", creditos_restantes)\n",
        "\n"
      ],
      "metadata": {
        "colab": {
          "base_uri": "https://localhost:8080/"
        },
        "id": "KRQQjIcd_eCF",
        "outputId": "eb15c4a4-96ad-4629-d0ab-249f52eedf28"
      },
      "execution_count": 5,
      "outputs": [
        {
          "output_type": "stream",
          "name": "stdout",
          "text": [
            "Elemento Eliminado: 1\n",
            "Créditos Restantes: 5\n"
          ]
        }
      ]
    },
    {
      "cell_type": "markdown",
      "source": [
        "Ejercicio 3"
      ],
      "metadata": {
        "id": "pqN-Chr0C5pC"
      }
    },
    {
      "cell_type": "code",
      "source": [
        "class Nodo:\n",
        "    def __init__(self, valor):\n",
        "        self.valor = valor\n",
        "        self.siguiente = None\n",
        "        self.potencial = 0  # Inicializamos el potencial en 0 para cada nodo\n",
        "\n",
        "class ListaVinculada:\n",
        "    def __init__(self):\n",
        "        self.cabeza = None\n",
        "\n",
        "    def insertar(self, valor):\n",
        "        nuevo_nodo = Nodo(valor)\n",
        "        nuevo_nodo.siguiente = self.cabeza\n",
        "        self.cabeza = nuevo_nodo\n",
        "\n",
        "        # Ajustamos el potencial después de la operación de inserción\n",
        "        if nuevo_nodo.siguiente:\n",
        "            nuevo_nodo.potencial = nuevo_nodo.siguiente.potencial + 1\n",
        "        else:\n",
        "            nuevo_nodo.potencial = 0\n",
        "\n",
        "    def imprimir_lista(self):\n",
        "        actual = self.cabeza\n",
        "        while actual:\n",
        "            print(f\"{actual.valor} (Potencial: {actual.potencial})\", end=\" -> \")\n",
        "            actual = actual.siguiente\n",
        "        print(\"None\")\n",
        "\n",
        "# Ejemplo de uso\n",
        "if __name__ == \"__main__\":\n",
        "    lista = ListaVinculada()\n",
        "\n",
        "    lista.insertar(1)\n",
        "    lista.insertar(2)\n",
        "    lista.insertar(3)\n",
        "\n",
        "    print(\"Lista inicial:\")\n",
        "    lista.imprimir_lista()\n",
        "    # Realizar más operaciones de inserción si es necesario\n",
        "    # ...\n",
        "    print(\"\\nLista después de las operaciones:\")\n",
        "    lista.imprimir_lista()\n"
      ],
      "metadata": {
        "colab": {
          "base_uri": "https://localhost:8080/"
        },
        "id": "NgNwBvYsC5IX",
        "outputId": "7d4bd5ff-be41-4fcc-cc6f-9fbf0a2a49ab"
      },
      "execution_count": 7,
      "outputs": [
        {
          "output_type": "stream",
          "name": "stdout",
          "text": [
            "Lista inicial:\n",
            "3 (Potencial: 2) -> 2 (Potencial: 1) -> 1 (Potencial: 0) -> None\n",
            "\n",
            "Lista después de las operaciones:\n",
            "3 (Potencial: 2) -> 2 (Potencial: 1) -> 1 (Potencial: 0) -> None\n"
          ]
        }
      ]
    },
    {
      "cell_type": "markdown",
      "source": [
        "Ejercicio 4"
      ],
      "metadata": {
        "id": "VZ-0UJgYD0uO"
      }
    },
    {
      "cell_type": "code",
      "source": [
        "class TablaDinamica:\n",
        "    def __init__(self, capacidad_inicial=10):\n",
        "        self.lista = [None] * capacidad_inicial\n",
        "        self.tabla = [0] * capacidad_inicial  # Inicializamos la tabla con valores predeterminados\n",
        "\n",
        "    def insertar(self, indice, valor):\n",
        "        if 0 <= indice < len(self.lista):\n",
        "            self.lista[indice] = valor\n",
        "            self.tabla[indice] += 1  # Actualizamos la tabla\n",
        "\n",
        "    def obtener_valor(self, indice):\n",
        "        if 0 <= indice < len(self.lista):\n",
        "            return self.lista[indice]\n",
        "        else:\n",
        "            raise IndexError(\"Índice fuera de rango\")\n",
        "\n",
        "    def obtener_informacion_adicional(self, indice):\n",
        "        if 0 <= indice < len(self.lista):\n",
        "            return self.tabla[indice]\n",
        "        else:\n",
        "            raise IndexError(\"Índice fuera de rango\")\n",
        "\n",
        "\n",
        "# Ejemplo de uso\n",
        "if __name__ == \"__main__\":\n",
        "    tabla_dinamica = TablaDinamica()\n",
        "\n",
        "    tabla_dinamica.insertar(0, 5)\n",
        "    tabla_dinamica.insertar(2, 10)\n",
        "    tabla_dinamica.insertar(4, 15)\n",
        "\n",
        "    valor_obtenido = tabla_dinamica.obtener_valor(2)\n",
        "    informacion_adicional = tabla_dinamica.obtener_informacion_adicional(2)\n",
        "\n",
        "    print(f\"Valor obtenido en el índice 2: {valor_obtenido}\")\n",
        "    print(f\"Información adicional en el índice 2: {informacion_adicional}\")\n"
      ],
      "metadata": {
        "colab": {
          "base_uri": "https://localhost:8080/"
        },
        "id": "KsZkVAe1D2fq",
        "outputId": "49b7b0a5-4a9c-419b-9f85-429c8c380b81"
      },
      "execution_count": 8,
      "outputs": [
        {
          "output_type": "stream",
          "name": "stdout",
          "text": [
            "Valor obtenido en el índice 2: 10\n",
            "Información adicional en el índice 2: 1\n"
          ]
        }
      ]
    },
    {
      "cell_type": "markdown",
      "source": [
        "Ejercicio 5"
      ],
      "metadata": {
        "id": "DbL0n1aEEh8x"
      }
    },
    {
      "cell_type": "code",
      "source": [
        "def raiz_cuadrada_aproximada(numero, iteraciones=1000, tolerancia=1e-10):\n",
        "    # Inicializamos la aproximación con la mitad del número\n",
        "    aproximacion = numero / 2.0\n",
        "\n",
        "    for _ in range(iteraciones):\n",
        "        # Aplicamos el método de aproximación probabilista\n",
        "        aproximacion = 0.5 * (aproximacion + numero / aproximacion)\n",
        "\n",
        "        # Verificamos la tolerancia\n",
        "        if abs(aproximacion**2 - numero) < tolerancia:\n",
        "            break\n",
        "\n",
        "    return aproximacion\n",
        "\n",
        "# Ejemplo de uso\n",
        "numero_dado = 25\n",
        "raiz_aproximada = raiz_cuadrada_aproximada(numero_dado)\n",
        "\n",
        "print(f\"La raíz cuadrada aproximada de {numero_dado} es: {raiz_aproximada}\")\n"
      ],
      "metadata": {
        "colab": {
          "base_uri": "https://localhost:8080/"
        },
        "id": "PST6nT5lEjvn",
        "outputId": "0f9f2091-0dda-42e4-865f-ca88553a50dd"
      },
      "execution_count": 9,
      "outputs": [
        {
          "output_type": "stream",
          "name": "stdout",
          "text": [
            "La raíz cuadrada aproximada de 25 es: 5.0\n"
          ]
        }
      ]
    },
    {
      "cell_type": "markdown",
      "source": [
        "Ejercicio 6"
      ],
      "metadata": {
        "id": "DlZCxBuQFDMm"
      }
    },
    {
      "cell_type": "code",
      "source": [
        "import random\n",
        "\n",
        "def estimar_pi(numero_de_dardos):\n",
        "    dardos_dentro_del_circulo = 0\n",
        "\n",
        "    for _ in range(numero_de_dardos):\n",
        "        x = random.uniform(-1, 1)\n",
        "        y = random.uniform(-1, 1)\n",
        "\n",
        "        distancia_al_centro = x**2 + y**2\n",
        "\n",
        "        if distancia_al_centro <= 1:\n",
        "            dardos_dentro_del_circulo += 1\n",
        "\n",
        "    pi_estimado = 4 * (dardos_dentro_del_circulo / float(numero_de_dardos))\n",
        "    return pi_estimado\n",
        "\n",
        "# Ejemplo de uso\n",
        "numero_de_dardos = 100000\n",
        "pi_aproximado = estimar_pi(numero_de_dardos)\n",
        "\n",
        "print(f\"Estimación de π con {numero_de_dardos} dardos: {pi_aproximado}\")\n"
      ],
      "metadata": {
        "colab": {
          "base_uri": "https://localhost:8080/"
        },
        "id": "0IiW3M15FE0R",
        "outputId": "872ac496-48a1-45e3-b07e-ccc3718c4898"
      },
      "execution_count": 10,
      "outputs": [
        {
          "output_type": "stream",
          "name": "stdout",
          "text": [
            "Estimación de π con 100000 dardos: 3.14036\n"
          ]
        }
      ]
    },
    {
      "cell_type": "markdown",
      "source": [
        "Ejercicio 7"
      ],
      "metadata": {
        "id": "eaYI4pD-F3QP"
      }
    },
    {
      "cell_type": "code",
      "source": [
        "import random\n",
        "\n",
        "def quicksort_las_vegas(arr):\n",
        "    if len(arr) <= 1:\n",
        "        return arr\n",
        "\n",
        "    pivote = random.choice(arr)\n",
        "    menores = [x for x in arr if x < pivote]\n",
        "    iguales = [x for x in arr if x == pivote]\n",
        "    mayores = [x for x in arr if x > pivote]\n",
        "\n",
        "    return quicksort_las_vegas(menores) + iguales + quicksort_las_vegas(mayores)\n",
        "\n",
        "# Ejemplo de uso\n",
        "lista_desordenada = [3, 1, 4, 1, 5, 9, 2, 6, 5, 3, 5]\n",
        "lista_ordenada = quicksort_las_vegas(lista_desordenada)\n",
        "\n",
        "print(\"Lista Desordenada:\", lista_desordenada)\n",
        "print(\"Lista Ordenada:\", lista_ordenada)\n"
      ],
      "metadata": {
        "colab": {
          "base_uri": "https://localhost:8080/"
        },
        "id": "nxAvmG6wF4i4",
        "outputId": "dada3fd9-677c-4a70-9c2b-fd22d900bcfa"
      },
      "execution_count": 11,
      "outputs": [
        {
          "output_type": "stream",
          "name": "stdout",
          "text": [
            "Lista Desordenada: [3, 1, 4, 1, 5, 9, 2, 6, 5, 3, 5]\n",
            "Lista Ordenada: [1, 1, 2, 3, 3, 4, 5, 5, 5, 6, 9]\n"
          ]
        }
      ]
    }
  ]
}